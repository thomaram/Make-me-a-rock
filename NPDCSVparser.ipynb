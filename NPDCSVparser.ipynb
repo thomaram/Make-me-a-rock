{
 "cells": [
  {
   "cell_type": "code",
   "execution_count": 106,
   "metadata": {},
   "outputs": [],
   "source": [
    "import pandas as pd\n",
    "\n",
    "import matplotlib.pyplot as plt\n",
    "\n",
    "path=\"~/Hackathon2019/Make-me-a-rock/Data/\"\n",
    "data_raw = pd.read_csv(path+\"data_1.csv\", delimiter=\",\")\n",
    "\n",
    "npd_litho = pd.read_csv(path+\"npd_litho_strat.csv\", delimiter=\";\",encoding=\"CP865\")\n",
    "\n",
    "xyz = pd.read_csv(path+\"xyz_combined.csv\", delimiter=\";\")\n",
    "\n",
    "npd_litho = pd.read_csv(path+\"npd_litho_strat.csv\", delimiter=\";\", encoding=\"CP865\")\n",
    "\n",
    "data_1 = data_raw[['wellbore','md','kh_kl','kv_kl','well_id','phi_best','clean_litho','grain_density','grain_size','sorting','cement']]\n",
    "\n",
    "data_clean = data_1.loc[data_1['wellbore'].isnull()==False]\n",
    "\n",
    "first_batch = data_clean.dropna(how='any')\n",
    "first_batch=first_batch.replace(',','.', regex=True)\n",
    "\n",
    "first_batch['well_id']=pd.to_numeric(first_batch['well_id'], downcast='integer')\n",
    "\n",
    "tmp = pd.merge(first_batch, npd_litho, how='inner', left_on='well_id', right_on='npd_id')\n",
    "\n",
    "tmp=tmp.replace('339..90','3399',regex=True)\n",
    "tmp=tmp.replace('18.69.25','1869.25',regex=True)\n",
    "\n",
    "\n",
    "#tmp=first_batch.replace(',','.', regex=True)\n",
    "\n",
    "tmp['md']=pd.to_numeric(tmp['md'], downcast='float')\n",
    "\n",
    "tmp['md_top']=pd.to_numeric(tmp['md_top'], downcast='float')\n",
    "\n",
    "tmp['md_bottom']=pd.to_numeric(tmp['md_bottom'], downcast='float')\n",
    "\n",
    "result = tmp.loc[(tmp['md']>=tmp['md_top'] ) & (tmp['md']<tmp['md_bottom'])]\n",
    "\n",
    "result = result.drop(columns = ['wellbore_x', 'md_top','md_bottom','npd_id'])\n",
    "\n",
    "result2 = pd.merge(result, xyz, how='inner', left_on='well_id', right_on='npd_id')\n",
    "\n",
    "result2['phi_best']=pd.to_numeric(result2['phi_best'], downcast='float')\n",
    "\n",
    " \n",
    "\n",
    "result2.to_csv(path+\"second_batch.csv\")"
   ]
  },
  {
   "cell_type": "markdown",
   "metadata": {},
   "source": [
    "Test"
   ]
  }
 ],
 "metadata": {
  "kernelspec": {
   "display_name": "Python 3",
   "language": "python",
   "name": "python3"
  },
  "language_info": {
   "codemirror_mode": {
    "name": "ipython",
    "version": 3
   },
   "file_extension": ".py",
   "mimetype": "text/x-python",
   "name": "python",
   "nbconvert_exporter": "python",
   "pygments_lexer": "ipython3",
   "version": "3.7.3"
  }
 },
 "nbformat": 4,
 "nbformat_minor": 4
}
