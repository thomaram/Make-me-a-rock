{
 "cells": [
  {
   "cell_type": "markdown",
   "metadata": {},
   "source": [
    "Test"
   ]
  },
  {
   "cell_type": "code",
   "execution_count": 5,
   "metadata": {},
   "outputs": [],
   "source": [
    "import pandas as pd\n",
    "\n",
    "import matplotlib.pyplot as plt\n",
    "\n",
    "path=\"~/Hackathon2019/Make-me-a-rock/Data/\"\n",
    "data_raw = pd.read_csv(path+\"data_1.csv\", delimiter=\",\")\n",
    "\n",
    "npd_litho = pd.read_csv(path+\"npd_litho_strat.csv\", delimiter=\";\",encoding=\"CP865\")\n",
    "\n",
    "xyz = pd.read_csv(path+\"xyz_combined.csv\", delimiter=\";\")\n",
    "\n",
    "npd_litho = pd.read_csv(path+\"npd_litho_strat.csv\", delimiter=\";\", encoding=\"CP865\")\n",
    "\n",
    "data_1 = data_raw[['wellbore','md','kh_kl','kv_kl','well_id','phi_best','clean_litho','grain_density','grain_size','sorting','cement']]\n",
    "\n",
    "data_clean = data_1.loc[data_1['wellbore'].isnull()==False]\n",
    "\n",
    "first_batch = data_clean.dropna(how='any')\n",
    "first_batch=first_batch.replace(',','.', regex=True)\n",
    "\n",
    "first_batch['well_id']=pd.to_numeric(first_batch['well_id'], downcast='integer')\n",
    "\n",
    "tmp = pd.merge(first_batch, npd_litho, how='inner', left_on='well_id', right_on='npd_id')\n",
    "\n",
    "tmp=tmp.replace('339..90','3399',regex=True)\n",
    "tmp=tmp.replace('18.69.25','1869.25',regex=True)\n",
    "\n",
    "\n",
    "tmp['md']=pd.to_numeric(tmp['md'], downcast='float')\n",
    "\n",
    "tmp['md_top']=pd.to_numeric(tmp['md_top'], downcast='float')\n",
    "\n",
    "tmp['md_bottom']=pd.to_numeric(tmp['md_bottom'], downcast='float')\n",
    "\n",
    "result = tmp.loc[(tmp['md']>=tmp['md_top'] ) & (tmp['md']<tmp['md_bottom'])]\n",
    "\n",
    "result = result.drop(columns = ['wellbore_x', 'md_top','md_bottom','npd_id'])\n",
    "\n",
    "result2 = pd.merge(result, xyz, how='inner', left_on='well_id', right_on='npd_id')\n",
    "\n",
    "result2['phi_best']=pd.to_numeric(result2['phi_best'], downcast='float')\n",
    "\n",
    " \n",
    "\n",
    "result2.to_csv(path+\"second_batch.csv\")"
   ]
  },
  {
   "cell_type": "code",
   "execution_count": 1,
   "metadata": {},
   "outputs": [
    {
     "name": "stderr",
     "output_type": "stream",
     "text": [
      "/home/thomaram/anaconda3/lib/python3.7/site-packages/IPython/core/interactiveshell.py:3057: DtypeWarning: Columns (0,1,2,3,4,5,6,7,8,9,10,11,12,13,14,15,16,17,18,19,20,21,22,23,24,25,26,27,28,29,30,31,32,33,35,36,37,38,39,40,41,42,43,44,45,46,47,48) have mixed types. Specify dtype option on import or set low_memory=False.\n",
      "  interactivity=interactivity, compiler=compiler, result=result)\n"
     ]
    }
   ],
   "source": [
    "import pandas as pd\n",
    "\n",
    "import matplotlib.pyplot as plt\n",
    "\n",
    "path=\"~/Hackathon2019/Make-me-a-rock/Data/\"\n",
    "data_raw = pd.read_csv(path+\"data_1.csv\", delimiter=\",\")\n",
    "\n",
    "npd_litho = pd.read_csv(path+\"npd_litho_strat.csv\", delimiter=\";\",encoding=\"CP865\")\n",
    "\n",
    "xyz = pd.read_csv(path+\"xyz_combined.csv\", delimiter=\";\")\n",
    "\n",
    "npd_litho = pd.read_csv(path+\"npd_litho_strat.csv\", delimiter=\";\", encoding=\"CP865\")\n",
    "\n",
    "data_1 = data_raw[['wellbore','md','kh_kl','kv_kl','well_id','phi_best','clean_litho','grain_density','grain_size','sorting','cement']]\n",
    "\n",
    "data_clean = data_1.loc[data_1['wellbore'].isnull()==False]\n",
    "\n",
    "first_batch = data_clean.dropna(how='any')\n",
    "first_batch=first_batch.replace(',','.', regex=True)\n",
    "\n",
    "first_batch['well_id']=pd.to_numeric(first_batch['well_id'], downcast='integer')\n",
    "\n",
    "tmp = pd.merge(first_batch, npd_litho, how='inner', left_on='well_id', right_on='npd_id')"
   ]
  },
  {
   "cell_type": "code",
   "execution_count": 4,
   "metadata": {},
   "outputs": [
    {
     "ename": "ValueError",
     "evalue": "Unable to parse string \"18.69.25\" at position 170945",
     "output_type": "error",
     "traceback": [
      "\u001b[0;31m---------------------------------------------------------------------------\u001b[0m",
      "\u001b[0;31mValueError\u001b[0m                                Traceback (most recent call last)",
      "\u001b[0;32mpandas/_libs/lib.pyx\u001b[0m in \u001b[0;36mpandas._libs.lib.maybe_convert_numeric\u001b[0;34m()\u001b[0m\n",
      "\u001b[0;31mValueError\u001b[0m: Unable to parse string \"18.69.25\"",
      "\nDuring handling of the above exception, another exception occurred:\n",
      "\u001b[0;31mValueError\u001b[0m                                Traceback (most recent call last)",
      "\u001b[0;32m<ipython-input-4-f482221cc804>\u001b[0m in \u001b[0;36m<module>\u001b[0;34m\u001b[0m\n\u001b[1;32m      1\u001b[0m \u001b[0mtmp\u001b[0m\u001b[0;34m=\u001b[0m\u001b[0mtmp\u001b[0m\u001b[0;34m.\u001b[0m\u001b[0mreplace\u001b[0m\u001b[0;34m(\u001b[0m\u001b[0;34m'339..90'\u001b[0m\u001b[0;34m,\u001b[0m\u001b[0;34m'3399'\u001b[0m\u001b[0;34m)\u001b[0m\u001b[0;34m\u001b[0m\u001b[0;34m\u001b[0m\u001b[0m\n\u001b[1;32m      2\u001b[0m \u001b[0;34m\u001b[0m\u001b[0m\n\u001b[0;32m----> 3\u001b[0;31m \u001b[0mtmp\u001b[0m\u001b[0;34m[\u001b[0m\u001b[0;34m'md'\u001b[0m\u001b[0;34m]\u001b[0m\u001b[0;34m=\u001b[0m\u001b[0mpd\u001b[0m\u001b[0;34m.\u001b[0m\u001b[0mto_numeric\u001b[0m\u001b[0;34m(\u001b[0m\u001b[0mtmp\u001b[0m\u001b[0;34m[\u001b[0m\u001b[0;34m'md'\u001b[0m\u001b[0;34m]\u001b[0m\u001b[0;34m,\u001b[0m \u001b[0mdowncast\u001b[0m\u001b[0;34m=\u001b[0m\u001b[0;34m'float'\u001b[0m\u001b[0;34m)\u001b[0m\u001b[0;34m\u001b[0m\u001b[0;34m\u001b[0m\u001b[0m\n\u001b[0m",
      "\u001b[0;32m~/anaconda3/lib/python3.7/site-packages/pandas/core/tools/numeric.py\u001b[0m in \u001b[0;36mto_numeric\u001b[0;34m(arg, errors, downcast)\u001b[0m\n\u001b[1;32m    133\u001b[0m             \u001b[0mcoerce_numeric\u001b[0m \u001b[0;34m=\u001b[0m \u001b[0;32mFalse\u001b[0m \u001b[0;32mif\u001b[0m \u001b[0merrors\u001b[0m \u001b[0;32min\u001b[0m \u001b[0;34m(\u001b[0m\u001b[0;34m'ignore'\u001b[0m\u001b[0;34m,\u001b[0m \u001b[0;34m'raise'\u001b[0m\u001b[0;34m)\u001b[0m \u001b[0;32melse\u001b[0m \u001b[0;32mTrue\u001b[0m\u001b[0;34m\u001b[0m\u001b[0;34m\u001b[0m\u001b[0m\n\u001b[1;32m    134\u001b[0m             values = lib.maybe_convert_numeric(values, set(),\n\u001b[0;32m--> 135\u001b[0;31m                                                coerce_numeric=coerce_numeric)\n\u001b[0m\u001b[1;32m    136\u001b[0m \u001b[0;34m\u001b[0m\u001b[0m\n\u001b[1;32m    137\u001b[0m     \u001b[0;32mexcept\u001b[0m \u001b[0mException\u001b[0m\u001b[0;34m:\u001b[0m\u001b[0;34m\u001b[0m\u001b[0;34m\u001b[0m\u001b[0m\n",
      "\u001b[0;32mpandas/_libs/lib.pyx\u001b[0m in \u001b[0;36mpandas._libs.lib.maybe_convert_numeric\u001b[0;34m()\u001b[0m\n",
      "\u001b[0;31mValueError\u001b[0m: Unable to parse string \"18.69.25\" at position 170945"
     ]
    }
   ],
   "source": [
    "tmp=tmp.replace('339..90','3399',regex=True)\n",
    "\n",
    "tmp['md']=pd.to_numeric(tmp['md'], downcast='float')\n"
   ]
  },
  {
   "cell_type": "code",
   "execution_count": 15,
   "metadata": {},
   "outputs": [],
   "source": [
    "first_batch = pd.read_csv(path+\"first_batch.csv\", delimiter=\";\")\n",
    "first_batch=first_batch.replace(',','.', regex=True)\n",
    "\n",
    "first_batch.to_csv(path+\"first_batch.csv\", sep=\",\")"
   ]
  },
  {
   "cell_type": "code",
   "execution_count": null,
   "metadata": {},
   "outputs": [],
   "source": []
  }
 ],
 "metadata": {
  "kernelspec": {
   "display_name": "Python 3",
   "language": "python",
   "name": "python3"
  },
  "language_info": {
   "codemirror_mode": {
    "name": "ipython",
    "version": 3
   },
   "file_extension": ".py",
   "mimetype": "text/x-python",
   "name": "python",
   "nbconvert_exporter": "python",
   "pygments_lexer": "ipython3",
   "version": "3.7.3"
  }
 },
 "nbformat": 4,
 "nbformat_minor": 4
}
